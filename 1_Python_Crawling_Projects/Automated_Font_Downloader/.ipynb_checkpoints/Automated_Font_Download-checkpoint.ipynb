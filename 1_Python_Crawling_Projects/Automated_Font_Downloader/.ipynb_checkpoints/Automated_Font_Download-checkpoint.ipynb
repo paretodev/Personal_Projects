{
 "cells": [
  {
   "cell_type": "markdown",
   "metadata": {},
   "source": [
    "# < Font Download Automation >  in 'https://fontsup.com'\n",
    "\n",
    "## I used crawler to download all the family fonts of a certain font without missing one."
   ]
  },
  {
   "cell_type": "markdown",
   "metadata": {},
   "source": [
    "<img src=\"Screen%20Shot%202019-07-03%20at%202.58.05%20AM.png\">"
   ]
  },
  {
   "cell_type": "code",
   "execution_count": 64,
   "metadata": {},
   "outputs": [],
   "source": [
    "# Import modules \n",
    "import bs4\n",
    "import urllib3\n",
    "import selenium.webdriver as webdriver\n",
    "# !!!! 커스텀 설정 !!!! 너의 크롬 드라이버 파일의 디렉토리\n",
    "from time import sleep\n",
    "from lxml import html\n",
    "import urllib3\n",
    "import csv\n",
    "import os\n",
    "# Get html text and let lxml parse it in its own way.\n",
    "http = urllib3.PoolManager()"
   ]
  },
  {
   "cell_type": "code",
   "execution_count": 65,
   "metadata": {},
   "outputs": [],
   "source": [
    "# Collect all the urls of each fonts\n",
    "\n",
    "# Get Main urls\n",
    "url = ['https://fontsup.com/ko/family/myriad+pro.html?page=2','https://fontsup.com/ko/family/myriad+pro.html']\n",
    "\n",
    "# Make an empty list for the collection of urls\n",
    "url_list = []\n",
    "\n",
    "# In each main url, collect the urls for each family fonts.\n",
    "\n",
    "for i in url:\n",
    "    \n",
    "    # <Get html and parsed tree>\n",
    "            # get html of the link\n",
    "    r = http.request('GET', i) # l is one link from loop\n",
    "    source = r.data\n",
    "            # parse them into lxml tree\n",
    "    tree = html.document_fromstring(source) \n",
    "    \n",
    "    # Find the href links and append it to url_list\n",
    "    a = tree.cssselect('#content div div div div div div.portfolio-image a.title-h2')\n",
    "    for i in a:\n",
    "         full_url = url_part_one + i.get('href')\n",
    "         url_list.append(full_url)"
   ]
  },
  {
   "cell_type": "code",
   "execution_count": 68,
   "metadata": {},
   "outputs": [
    {
     "data": {
      "text/plain": [
       "'all 40 of those are collected successfully'"
      ]
     },
     "execution_count": 68,
     "metadata": {},
     "output_type": "execute_result"
    }
   ],
   "source": [
    "'all {} of those are collected successfully'.format(len(url_list))"
   ]
  },
  {
   "cell_type": "code",
   "execution_count": 70,
   "metadata": {},
   "outputs": [],
   "source": [
    "# bs4 driver, iterate over all family font urls and just click download button\n",
    "driver = webdriver.Chrome('/Users/sucky/Desktop/chromedriver')\n",
    "for i in url_list[0:2]:\n",
    "    driver.get(i)\n",
    "    driver.find_element_by_xpath(\n",
    "    '//*[@id=\"content\"]/div/div[2]/div/div[2]/div[2]/div[1]/div/a').click()"
   ]
  }
 ],
 "metadata": {
  "kernelspec": {
   "display_name": "Python [conda env:python_2]",
   "language": "python",
   "name": "conda-env-python_2-py"
  },
  "language_info": {
   "codemirror_mode": {
    "name": "ipython",
    "version": 2
   },
   "file_extension": ".py",
   "mimetype": "text/x-python",
   "name": "python",
   "nbconvert_exporter": "python",
   "pygments_lexer": "ipython2",
   "version": "2.7.16"
  }
 },
 "nbformat": 4,
 "nbformat_minor": 2
}
