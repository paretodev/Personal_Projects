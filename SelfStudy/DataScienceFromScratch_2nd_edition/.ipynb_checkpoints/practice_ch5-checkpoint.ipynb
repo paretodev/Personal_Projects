{
 "cells": [
  {
   "cell_type": "markdown",
   "metadata": {},
   "source": [
    "# Chapter 5. Statistics"
   ]
  },
  {
   "cell_type": "markdown",
   "metadata": {},
   "source": [
    "## 1). Describing a Single Set of Data"
   ]
  },
  {
   "cell_type": "code",
   "execution_count": 1,
   "metadata": {},
   "outputs": [
    {
     "data": {
      "text/plain": [
       "<Figure size 640x480 with 1 Axes>"
      ]
     },
     "metadata": {},
     "output_type": "display_data"
    }
   ],
   "source": [
    "from collections import Counter\n",
    "import matplotlib.pyplot as plt\n",
    "num_friends = [100.0,49,41,40,25,21,21,19\n",
    "               ,19,18,18,16,15,15,15,15,14,\n",
    "               14,13,13,13,13,12,12,11,10,10,10,\n",
    "               10,10,10,10,10,10,10,10,10,10,10,10,\n",
    "               9,9,9,9,9,9,9,9,9,9,9,9,9,9,9,9,9,9,8,\n",
    "               8,8,8,8,8,8,8,8,8,8,8,8,7,7,7,7,7,7,7,7,\n",
    "               7,7,7,7,7,7,7,6,6,6,6,6,6,6,6,6,6,6,6,6,6,\n",
    "               6,6,6,6,6,6,6,6,5,5,5,5,5,5,5,5,5,5,5,5,5,5,\n",
    "               5,5,5,4,4,4,4,4,4,4,4,4,4,4,4,4,4,4,4,4,4,4,\n",
    "               4,3,3,3,3,3,3,3,3,3,3,3,3,3,3,3,3,3,3,3,3,2,\n",
    "               2,2,2,2,2,2,2,2,2,2,2,2,2,2,2,2,1,1,1,1,1,1,\n",
    "               1,1,1,1,1,1,1,1,1,1,1,1,1,1,1,1]\n",
    "friend_counts = Counter(num_friends)\n",
    "xs = range(101)\n",
    "ys = [friend_counts[x] for x in xs]\n",
    "\n",
    "plt.bar(xs, ys)\n",
    "plt.axis([0, 101, 0, 25])\n",
    "plt.title('Histogram of Friend Counts')\n",
    "plt.xlabel('# of friends')\n",
    "plt.ylabel('# of people')\n",
    "plt.show()"
   ]
  },
  {
   "cell_type": "code",
   "execution_count": 2,
   "metadata": {},
   "outputs": [
    {
     "name": "stdout",
     "output_type": "stream",
     "text": [
      "100.0\n",
      "1\n"
     ]
    }
   ],
   "source": [
    "num_points = len(num_friends)\n",
    "num_points\n",
    "\n",
    "largest_value = max(num_friends)\n",
    "smallest_value = min(num_friends)\n",
    "\n",
    "print(largest_value)\n",
    "print(smallest_value)"
   ]
  },
  {
   "cell_type": "code",
   "execution_count": 3,
   "metadata": {},
   "outputs": [],
   "source": [
    "sorted_values = sorted(num_friends)\n",
    "smallest_value = sorted_values[0]\n",
    "second_smallest_value = sorted_values[1]\n",
    "second_largest_value = sorted_values[-2]"
   ]
  },
  {
   "cell_type": "markdown",
   "metadata": {},
   "source": [
    "### 1). Describing a Single Set of Data - [1]. Central Tendencies"
   ]
  },
  {
   "cell_type": "code",
   "execution_count": 4,
   "metadata": {},
   "outputs": [
    {
     "data": {
      "text/plain": [
       "7.333333333333333"
      ]
     },
     "execution_count": 4,
     "metadata": {},
     "output_type": "execute_result"
    }
   ],
   "source": [
    "# mean\n",
    "\n",
    "from typing import List\n",
    "\n",
    "def mean(xs: List[float]) -> float:\n",
    "    return sum(xs) / len(xs)\n",
    "\n",
    "mean(num_friends)"
   ]
  },
  {
   "cell_type": "code",
   "execution_count": 5,
   "metadata": {},
   "outputs": [
    {
     "name": "stdout",
     "output_type": "stream",
     "text": [
      "6.0\n"
     ]
    }
   ],
   "source": [
    "# median\n",
    "\n",
    "def _median_odd(xs: List[float]) -> float:\n",
    "    \"\"\"if the len(xs) is odd, the median is the middle element.\"\"\"\n",
    "    return sorted(xs)[len(xs)//2]\n",
    "\n",
    "_median_odd([5,3,4,2,1])\n",
    "\n",
    "\n",
    "def _median_even(xs: List[float]) -> float:\n",
    "    \"\"\"if the len(xs) is even, it's the average of middle two element.\"\"\"\n",
    "    sorted_xs = sorted(xs)\n",
    "    hi_midpoint = len(xs) // 2\n",
    "    \n",
    "    return (sorted_xs[hi_midpoint - 1] + sorted_xs[hi_midpoint]) / 2\n",
    "\n",
    "def median(v: List[float]) -> float:\n",
    "    return _median_even(v) if len(v) % 2 == 0 else _median_odd(v)\n",
    "\n",
    "assert median([1,10,2,9,5]) == 5\n",
    "\n",
    "print(median(num_friends))"
   ]
  },
  {
   "cell_type": "code",
   "execution_count": 6,
   "metadata": {},
   "outputs": [],
   "source": [
    "def quantile(xs: List[float], p: float) -> float:\n",
    "    \"\"\"returns pth-percentile value in x.\"\"\"\n",
    "    p_index = int(p*len(xs))\n",
    "    return sorted(xs)[p_index]"
   ]
  },
  {
   "cell_type": "code",
   "execution_count": 7,
   "metadata": {},
   "outputs": [],
   "source": [
    "assert quantile(num_friends, 0.90) == 13"
   ]
  },
  {
   "cell_type": "code",
   "execution_count": 8,
   "metadata": {},
   "outputs": [],
   "source": [
    "# mode\n",
    "\n",
    "def mode(x: List[float]) -> List[float]:\n",
    "    \n",
    "    counts = Counter(x)\n",
    "    max_count = max(counts.values())\n",
    "    \n",
    "    return [x for x,y in counts.items() if y is max_count]\n",
    "    \n",
    "\n",
    "assert(set(mode(num_friends)) == {1,6})"
   ]
  },
  {
   "cell_type": "code",
   "execution_count": 9,
   "metadata": {},
   "outputs": [
    {
     "data": {
      "text/plain": [
       "[1, 6]"
      ]
     },
     "execution_count": 9,
     "metadata": {},
     "output_type": "execute_result"
    }
   ],
   "source": [
    "mode([1,1,1,1,6,6,6,6,12,2,2,3,4,2])"
   ]
  },
  {
   "cell_type": "markdown",
   "metadata": {},
   "source": [
    "### 1). Describing a Single Set of Data - [2]. Dispersion"
   ]
  },
  {
   "cell_type": "code",
   "execution_count": 10,
   "metadata": {},
   "outputs": [],
   "source": [
    "#1. range\n",
    "def data_range(xs: List[float]) -> float:\n",
    "    return max(xs) - min(xs)\n",
    "\n",
    "assert data_range(num_friends) == 99"
   ]
  },
  {
   "cell_type": "code",
   "execution_count": 11,
   "metadata": {},
   "outputs": [],
   "source": [
    "#2. variance\n",
    "import numpy as np\n",
    "def de_mean(xs: List[float]) -> List[float]:\n",
    "    x_bar = mean(xs)\n",
    "    return [x - x_bar for x in xs]\n",
    "\n",
    "def variance(xs: List[float]) -> float:\n",
    "    \n",
    "    assert len(xs) >= 2\n",
    "    \n",
    "    n = len(xs)\n",
    "    deviations = de_mean(xs)\n",
    "    devis = np.array(deviations)\n",
    "    devis = devis ** 2\n",
    "    devis = np.sum(devis)/(len(devis)-1)\n",
    "    \n",
    "    return devis"
   ]
  },
  {
   "cell_type": "code",
   "execution_count": 12,
   "metadata": {},
   "outputs": [],
   "source": [
    "assert 81.54 < variance(num_friends) < 81.55"
   ]
  },
  {
   "cell_type": "code",
   "execution_count": 13,
   "metadata": {},
   "outputs": [
    {
     "data": {
      "text/plain": [
       "9.030144736232474"
      ]
     },
     "execution_count": 13,
     "metadata": {},
     "output_type": "execute_result"
    }
   ],
   "source": [
    "#3. standard deviation\n",
    "import math\n",
    "\n",
    "def standard_deviation(xs : List[float]) -> float:\n",
    "    return math.sqrt(variance(xs))\n",
    "\n",
    "standard_deviation(num_friends)"
   ]
  },
  {
   "cell_type": "code",
   "execution_count": 14,
   "metadata": {},
   "outputs": [
    {
     "name": "stdout",
     "output_type": "stream",
     "text": [
      "7.333333333333333\n"
     ]
    },
    {
     "data": {
      "text/plain": [
       "204"
      ]
     },
     "execution_count": 14,
     "metadata": {},
     "output_type": "execute_result"
    }
   ],
   "source": [
    "print(mean(num_friends))\n",
    "len(num_friends)"
   ]
  },
  {
   "cell_type": "code",
   "execution_count": 15,
   "metadata": {},
   "outputs": [
    {
     "name": "stdout",
     "output_type": "stream",
     "text": [
      "9\n",
      "3\n",
      "1\n",
      "100.0\n"
     ]
    }
   ],
   "source": [
    "def interquartile_range(xs: List) -> float:\n",
    "    return quantile(xs, 0.75) - quantile(xs, 0.25)\n",
    "\n",
    "median(num_friends)\n",
    "\n",
    "print(quantile(num_friends, 0.75))\n",
    "print(quantile(num_friends, 0.25))\n",
    "print(min(num_friends))\n",
    "print(max(num_friends))"
   ]
  },
  {
   "cell_type": "markdown",
   "metadata": {},
   "source": [
    "## 2). Correlation"
   ]
  },
  {
   "cell_type": "code",
   "execution_count": 18,
   "metadata": {},
   "outputs": [],
   "source": [
    "# covariance\n",
    "from scratch.linear_algebra import dot\n",
    "\n",
    "def covariance(xs: List[float], ys: List[float]) -> float:\n",
    "    \n",
    "    # dimension matching :\n",
    "    assert len(xs) == len(ys)\n",
    "    \n",
    "    # return dot product / n - 1\n",
    "    return dot(de_mean(xs), de_mean(ys))/(len(xs)-1)\n"
   ]
  },
  {
   "cell_type": "code",
   "execution_count": 22,
   "metadata": {},
   "outputs": [],
   "source": [
    "# add daily_minutes data\n",
    "daily_minutes = [1,68.77,51.25,52.08,38.36,44.54,57.13,51.4,41.42,31.22,34.76,54.01,38.79,47.59,49.1,27.66,41.03,36.73,48.65,28.12,46.62,35.57,32.98,35,26.07,23.77,39.73,40.57,31.65,31.21,36.32,20.45,21.93,26.02,27.34,23.49,46.94,30.5,33.8,24.23,21.4,27.94,32.24,40.57,25.07,19.42,22.39,18.42,46.96,23.72,26.41,26.97,36.76,40.32,35.02,29.47,30.2,31,38.11,38.18,36.31,21.03,30.86,36.07,28.66,29.08,37.28,15.28,24.17,22.31,30.17,25.53,19.85,35.37,44.6,17.23,13.47,26.33,35.02,32.09,24.81,19.33,28.77,24.26,31.98,25.73,24.86,16.28,34.51,15.23,39.72,40.8,26.06,35.76,34.76,16.13,44.04,18.03,19.65,32.62,35.59,39.43,14.18,35.24,40.13,41.82,35.45,36.07,43.67,24.61,20.9,21.9,18.79,27.61,27.21,26.61,29.77,20.59,27.53,13.82,33.2,25,33.1,36.65,18.63,14.87,22.2,36.81,25.53,24.62,26.25,18.21,28.08,19.42,29.79,32.8,35.99,28.32,27.79,35.88,29.06,36.28,14.1,36.63,37.49,26.9,18.58,38.48,24.48,18.95,33.55,14.24,29.04,32.51,25.63,22.22,19,32.73,15.16,13.9,27.2,32.01,29.27,33,13.74,20.42,27.32,18.23,35.35,28.48,9.08,24.62,20.12,35.26,19.92,31.02,16.49,12.16,30.7,31.22,34.65,13.13,27.51,33.2,31.57,14.1,33.42,17.44,10.12,24.42,9.82,23.39,30.93,15.03,21.67,31.09,33.29,22.61,26.89,23.48,8.38,27.81,32.35,23.84]"
   ]
  },
  {
   "cell_type": "code",
   "execution_count": 23,
   "metadata": {},
   "outputs": [
    {
     "data": {
      "text/plain": [
       "22.425435139573064"
      ]
     },
     "execution_count": 23,
     "metadata": {},
     "output_type": "execute_result"
    }
   ],
   "source": [
    "covariance(num_friends, daily_minutes)"
   ]
  },
  {
   "cell_type": "code",
   "execution_count": 25,
   "metadata": {},
   "outputs": [],
   "source": [
    "def correlation(xs: List[float], ys: List[float]) -> float:\n",
    "    \"\"\"Measures [how much xs and ys] vary [in tandom] near their means.\"\"\" \n",
    "    \n",
    "    stdev_x = standard_deviation(xs)\n",
    "    stdev_y = standard_deviation(ys)\n",
    "    \n",
    "    if stdev_x > 0 and stdev_y > 0 :\n",
    "        return covariance(xs,ys)/stdev_x/stdev_y # z-score 사각형 넓이의 평균 ish => (n-1)로 나눈 것.\n",
    "    else:\n",
    "        return 0"
   ]
  },
  {
   "cell_type": "code",
   "execution_count": 26,
   "metadata": {},
   "outputs": [
    {
     "data": {
      "text/plain": [
       "0.2473695736647822"
      ]
     },
     "execution_count": 26,
     "metadata": {},
     "output_type": "execute_result"
    }
   ],
   "source": [
    "correlation(num_friends, daily_minutes)"
   ]
  },
  {
   "cell_type": "code",
   "execution_count": null,
   "metadata": {},
   "outputs": [],
   "source": []
  }
 ],
 "metadata": {
  "kernelspec": {
   "display_name": "Python 3",
   "language": "python",
   "name": "python3"
  },
  "language_info": {
   "codemirror_mode": {
    "name": "ipython",
    "version": 3
   },
   "file_extension": ".py",
   "mimetype": "text/x-python",
   "name": "python",
   "nbconvert_exporter": "python",
   "pygments_lexer": "ipython3",
   "version": "3.7.1"
  }
 },
 "nbformat": 4,
 "nbformat_minor": 2
}
