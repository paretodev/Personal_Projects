{
 "cells": [
  {
   "cell_type": "markdown",
   "metadata": {},
   "source": [
    "# Chapter 3. Visualizing Data"
   ]
  },
  {
   "cell_type": "markdown",
   "metadata": {},
   "source": [
    "1. explore Data by yourself\n",
    "\n",
    "2. communicate Data"
   ]
  },
  {
   "cell_type": "markdown",
   "metadata": {},
   "source": [
    "afterwards,\n",
    "\n",
    "1. savefig \n",
    "or \n",
    "2. show()"
   ]
  },
  {
   "cell_type": "code",
   "execution_count": null,
   "metadata": {},
   "outputs": [],
   "source": [
    "from matplotlib import pyplot as plt\n",
    "\n",
    "years = [1950, 1960, 1970, 1980, 1990, 2000, 2010]\n",
    "gdp = [300.2, 543.3, 1075.9, 2862.5, 5979.6, 10289.7, 14958.3]"
   ]
  },
  {
   "cell_type": "markdown",
   "metadata": {},
   "source": [
    "# line plot"
   ]
  },
  {
   "cell_type": "code",
   "execution_count": null,
   "metadata": {},
   "outputs": [],
   "source": [
    "# default create line chart\n",
    "plt.plot(years, gdp, color = 'green', marker = 'o', linestyle = 'solid')\n",
    "\n",
    "# add a title\n",
    "plt.title('Normal GDP')\n",
    "\n",
    "# add a label to the y-axis\n",
    "plt.ylabel('billions of $')\n",
    "plt.show()\n",
    "\n",
    "# save the img in the now dir\n",
    "plt.savefig('normalgdp.jpeg')"
   ]
  },
  {
   "cell_type": "markdown",
   "metadata": {},
   "source": [
    "# Bar Chart"
   ]
  },
  {
   "cell_type": "markdown",
   "metadata": {},
   "source": [
    " 1. category 별 수치 비교에 좋음 \n",
    " 2. numeric variable의 frequency dist를 bean별로 보여주는데에도 좋음"
   ]
  },
  {
   "cell_type": "code",
   "execution_count": null,
   "metadata": {},
   "outputs": [],
   "source": [
    "movies = [\"Annie Hall\", \"Ben-Hur\", \"Casablanca\", \"Gandhi\", \"West Side Story\"]\n",
    "num_oscars = [5, 11, 3, 8, 10]"
   ]
  },
  {
   "cell_type": "code",
   "execution_count": null,
   "metadata": {},
   "outputs": [],
   "source": [
    "plt.bar(range(len(movies)), num_oscars, color = 'green')\n",
    "\n",
    "plt.title('My Favorite Movies')\n",
    "plt.ylabel('# of Academy Awards')\n",
    "\n",
    "plt.xticks(range(len(movies)), movies)\n",
    "\n",
    "plt.show()"
   ]
  },
  {
   "cell_type": "code",
   "execution_count": null,
   "metadata": {},
   "outputs": [],
   "source": [
    "semi_cond_growth = [21, 10, 12, 3]\n",
    "country = ['Korea', 'China', 'U.S', 'Jaan']\n",
    "\n",
    "plt.bar(range(len(country)), semi_cond_growth, color = 'purple')\n",
    "plt.ylabel('Growth 2018-2019')\n",
    "plt.xticks(range(len(country)), country)\n",
    "plt.yticks([0, 10, 20], [0, '10bil', '20bil'])\n",
    "\n",
    "# save the image\n",
    "fig = plt.gcf()\n",
    "plt.show()\n",
    "fig.savefig('/Users/sucky/Desktop/growth_rate.jpg', format ='png')"
   ]
  },
  {
   "cell_type": "code",
   "execution_count": null,
   "metadata": {},
   "outputs": [],
   "source": [
    "from collections import Counter\n",
    "grades = [83, 95, 91, 87, 70, 0, 85, 82, 100, 67, 73, 77, 0]"
   ]
  },
  {
   "cell_type": "code",
   "execution_count": null,
   "metadata": {},
   "outputs": [],
   "source": [
    "histogram = Counter(min(grade //10 * 10, 90) for grade in grades)"
   ]
  },
  {
   "cell_type": "code",
   "execution_count": null,
   "metadata": {},
   "outputs": [],
   "source": [
    "histogram."
   ]
  },
  {
   "cell_type": "code",
   "execution_count": null,
   "metadata": {},
   "outputs": [],
   "source": [
    "histogram.keys()\n",
    "histogram.values()"
   ]
  },
  {
   "cell_type": "code",
   "execution_count": null,
   "metadata": {},
   "outputs": [],
   "source": [
    "plt.bar([x + 5 for x in histogram.keys()], histogram.values(), 10, edgecolor = [0,0,0], color = 'green')\n",
    "plt.axis([-5, 105, 0, 5])\n",
    "plt.xticks([10 * i for i in range(11)])\n",
    "\n",
    "plt.xlabel('Decile')\n",
    "plt.ylabel('# of Students')\n",
    "\n",
    "plt.title('Distribution of Exam_1 Grades')\n",
    "fig = plt.gcf()\n",
    "fig.savefig('/Users/sucky/Desktop/exam_1_grades.jpg', format = 'jpg')\n",
    "\n",
    "plt.show()"
   ]
  },
  {
   "cell_type": "markdown",
   "metadata": {},
   "source": [
    "# Distribution"
   ]
  },
  {
   "cell_type": "code",
   "execution_count": null,
   "metadata": {},
   "outputs": [],
   "source": [
    "scores = [1,2,3,1,4,3,4,5,4,3,4,5,6,7,8,6,8,9,8]\n",
    "\n",
    "dictionary = Counter(scores)"
   ]
  },
  {
   "cell_type": "code",
   "execution_count": null,
   "metadata": {},
   "outputs": [],
   "source": [
    "distribution = [(x,y) for x,y in dictionary.items()]\n",
    "\n",
    "distribution"
   ]
  },
  {
   "cell_type": "code",
   "execution_count": null,
   "metadata": {},
   "outputs": [],
   "source": [
    "score, freq = zip(*distribution)"
   ]
  },
  {
   "cell_type": "code",
   "execution_count": null,
   "metadata": {},
   "outputs": [],
   "source": [
    "score = list(score)"
   ]
  },
  {
   "cell_type": "code",
   "execution_count": null,
   "metadata": {},
   "outputs": [],
   "source": [
    "freq = list(freq)"
   ]
  },
  {
   "cell_type": "code",
   "execution_count": null,
   "metadata": {},
   "outputs": [],
   "source": [
    "plt.bar(score, freq, 1, edgecolor = [0,0,0], color = 'purple')\n",
    "plt.axis([0,10,0,5]) # Set Y axis to 0 to not be considered misleading\n",
    "plt.xticks(range(1,11),range(1,11))\n",
    "plt.yticks(range(0,6), range(0,6))\n",
    "\n",
    "plt.xlabel('Score')\n",
    "plt.ylabel('Number of Students')\n",
    "\n",
    "plt.title('Score Distribution')\n",
    "fig = plt.gcf()\n",
    "fig.savefig('/Users/sucky/Desktop/class_1_dist.pdf', format = 'pdf')\n",
    "\n",
    "plt.show()"
   ]
  },
  {
   "cell_type": "code",
   "execution_count": null,
   "metadata": {},
   "outputs": [],
   "source": [
    "mentions = [500, 505]\n",
    "years = [2017, 2018]\n",
    "\n",
    "plt.bar(years, mentions, 0.8)\n",
    "plt.xticks(years)\n",
    "plt.ylabel('# of times I heard someone say \"data science\"')\n",
    "plt.ticklabel_format(useOffset = False)\n",
    "\n",
    "plt.axis([2016.5, 2018.5, 0, 550])\n",
    "plt.title('No so huge anymore')\n",
    "plt.show()\n"
   ]
  },
  {
   "cell_type": "markdown",
   "metadata": {},
   "source": [
    "# 7/11. Today's Review : $*args$ and $**kwargs$"
   ]
  },
  {
   "cell_type": "code",
   "execution_count": null,
   "metadata": {},
   "outputs": [],
   "source": [
    "def doubler(f):\n",
    "    def g(x):\n",
    "        return 2*f(x)\n",
    "    return g"
   ]
  },
  {
   "cell_type": "code",
   "execution_count": null,
   "metadata": {},
   "outputs": [],
   "source": [
    "def f1(x):\n",
    "    return x+1\n",
    "\n",
    "g = doubler(f1)\n",
    "\n",
    "assert g(3) == 8"
   ]
  },
  {
   "cell_type": "code",
   "execution_count": null,
   "metadata": {},
   "outputs": [],
   "source": [
    "# doubler에 인풋을 두개 받는 함수를 넣으면 작동하지 않는다."
   ]
  },
  {
   "cell_type": "code",
   "execution_count": null,
   "metadata": {},
   "outputs": [],
   "source": [
    "def f2(x, y):\n",
    "    return x + y\n",
    "\n",
    "\n",
    "#g = doubler(f2)\n",
    "#try:\n",
    "#    g(1,2)\n",
    "#except TypeError:\n",
    "#    print(\"as defined, g only takes one argument\")"
   ]
  },
  {
   "cell_type": "code",
   "execution_count": null,
   "metadata": {},
   "outputs": [],
   "source": [
    "# arbitrary arguments\n",
    "\n",
    "def magic(*args, **kwargs): # arbitrary args as tuple \n",
    "    print('unnamed args:', args)\n",
    "    print('keyword args:', kwargs)\n",
    "\n",
    "magic(1,2, key ='word', key2='word2')"
   ]
  },
  {
   "cell_type": "code",
   "execution_count": null,
   "metadata": {},
   "outputs": [],
   "source": [
    "def other_way_magic(x,y,z,c):\n",
    "    return x + y + z + c\n",
    "\n",
    "x_y_list = [1,2]\n",
    "z_dict = {'z': 3, 'c': 5}\n",
    "\n",
    "other_way_magic(*x_y_list, **z_dict)"
   ]
  },
  {
   "cell_type": "markdown",
   "metadata": {},
   "source": [
    "### function input sequence : 1). positional 2). optional 3). args : unnamed 4). kwargs : named"
   ]
  },
  {
   "cell_type": "code",
   "execution_count": null,
   "metadata": {},
   "outputs": [],
   "source": [
    "def printer(n ,main_statement, additional_statement = 'Hi', *args, **kwargs):\n",
    "    if n >= 3:\n",
    "        additional_statment = 'hey sucker.'\n",
    "    \n",
    "    print((additional_statement + '\\n' + main_statement + '\\n' +\n",
    "         'It is so good to see' + ' {}'+', {} '*(len(args)-1) + 'thru this wedding').format(*args))"
   ]
  },
  {
   "cell_type": "code",
   "execution_count": null,
   "metadata": {},
   "outputs": [],
   "source": [
    "printer(4, 'Sarah and I are getting married.','Welcome', 'sam', 'james')"
   ]
  },
  {
   "cell_type": "code",
   "execution_count": null,
   "metadata": {},
   "outputs": [],
   "source": [
    "def doubler_correct(f):\n",
    "    def g(*args, **kwargs):\n",
    "        \"\"\"whatever g is supplied, give it without exception to f\"\"\"\n",
    "        return 2 * f(*args, **kwargs)\n",
    "    \n",
    "    return g\n",
    "\n",
    "g = doubler_correct(f2)\n",
    "\n",
    "assert g(1 ,2) == 6"
   ]
  },
  {
   "cell_type": "code",
   "execution_count": null,
   "metadata": {},
   "outputs": [],
   "source": [
    "# 변수 이름을 명시하는 게 더 바람직하다, 하지만 어쩔 수 없을 때는 받는다."
   ]
  },
  {
   "cell_type": "code",
   "execution_count": null,
   "metadata": {},
   "outputs": [],
   "source": [
    "def dictionary_printer(**kwargs):\n",
    "    my_dict = kwargs\n",
    "    indexes = my_dict.values()\n",
    "    print([i for i in indexes])"
   ]
  },
  {
   "cell_type": "code",
   "execution_count": null,
   "metadata": {},
   "outputs": [],
   "source": [
    "dictionary_printer(seokhee='korea', mh='american')"
   ]
  },
  {
   "cell_type": "markdown",
   "metadata": {},
   "source": [
    "## 2019/7/11 : Data Visualization"
   ]
  },
  {
   "cell_type": "markdown",
   "metadata": {},
   "source": [
    "# line plot : Time serial trend\n",
    "# Bar Plot : Distribution, Comparison\n",
    "# Scatter Plot : Correlation"
   ]
  },
  {
   "cell_type": "markdown",
   "metadata": {},
   "source": [
    "# < Line Chart >"
   ]
  },
  {
   "cell_type": "code",
   "execution_count": null,
   "metadata": {},
   "outputs": [],
   "source": [
    "from matplotlib import pyplot as plt\n",
    "\n",
    "variance = [1, 2, 4, 8, 16, 32, 64, 128, 256]\n",
    "bias_squared = [256, 128, 64, 32, 16, 8, 4, 2, 1]\n",
    "total_error = [x+y for x,y in zip(variance, bias_squared)]\n",
    "xs = [i for i, _ in enumerate(variance)]\n",
    "\n",
    "plt.plot(xs, variance,'g-', label = 'variance')\n",
    "plt.plot(xs, bias_squared, 'r-.', label = 'bias^2')\n",
    "plt.plot(xs, total_error, 'b:', label= 'total error')\n",
    "\n",
    "plt.legend(loc=9)\n",
    "plt.xlabel('mod                                                                                                                                                                                                                                                                                                                                                                                                                                                                                                                                                                                                                                                                                                                                                                                                                                                                                                                                                                                                                                                                                                                                                                                                                                                                                                                                                                                                                                                                                                                                                                                                                                                                                                                                                                                                                                                                                                                                                                                                                                                                                                                                                                                                                                                                                                                                                                                                                                                                                                                                                                                                                                                                                                                                                                                                                                                                                                                                                                                                                                                                                                                                                                                                                                                                                                                                                                                                                                                                                                                                                                                                                                                                                                                                                                                                                                                                                                                                                                                                                               el complexity')\n",
    "plt.xticks([])\n",
    "plt.title('the Bias-Variance TradeOff')\n",
    "plt.show()\n"
   ]
  },
  {
   "cell_type": "markdown",
   "metadata": {},
   "source": [
    "# Scatter Plot : 다변량 위치 및 상관관계"
   ]
  },
  {
   "cell_type": "code",
   "execution_count": 2,
   "metadata": {},
   "outputs": [],
   "source": [
    "friends = [ 70,  65,  72,  63,  71,  64,  60,  64,  67]\n",
    "minutes = [175, 170, 205, 120, 220, 130, 105, 145, 190]\n",
    "labels =  ['a', 'b', 'c', 'd', 'e', 'f', 'g', 'h', 'i']"
   ]
  },
  {
   "cell_type": "code",
   "execution_count": 3,
   "metadata": {},
   "outputs": [],
   "source": [
    "from matplotlib import pyplot as plt"
   ]
  },
  {
   "cell_type": "code",
   "execution_count": 30,
   "metadata": {
    "scrolled": true
   },
   "outputs": [
    {
     "data": {
      "image/png": "[encoded data removed]",
      "text/plain": [
       "<Figure size 432x288 with 1 Axes>"
      ]
     },
     "metadata": {
      "needs_background": "light"
     },
     "output_type": "display_data"
    }
   ],
   "source": [
    "# label each point\n",
    "plt.scatter(friends, minutes)\n",
    "\n",
    "# label each point\n",
    "for label, friend_count, minute_count in zip(labels, friends, minutes):\n",
    "    plt.annotate( label,\n",
    "        xy=(friend_count, minute_count), # Put the label with its point\n",
    "        xytext=(6,-6), # coordinate in 'pt'\n",
    "        textcoords='offset points' ) # unit of the text coordinate : pt(as in word)\n",
    "\n",
    "plt.title(\"Daily Minutes vs. Number of Friends\")\n",
    "plt.xlabel(\"Number of friends\")\n",
    "plt.ylabel(\"daily minutes spent on the site\")\n",
    "\n",
    "plt.show()"
   ]
  },
  {
   "cell_type": "code",
   "execution_count": 24,
   "metadata": {},
   "outputs": [
    {
     "data": {
      "image/png": "[encoded data removed]",
      "text/plain": [
       "<Figure size 432x288 with 1 Axes>"
      ]
     },
     "metadata": {
      "needs_background": "light"
     },
     "output_type": "display_data"
    }
   ],
   "source": [
    "test_1_grades = [ 99, 90, 85, 97, 80]\n",
    "test_2_grades = [100, 85, 60, 90, 70]\n",
    "\n",
    "plt.scatter(test_1_grades, test_2_grades)\n",
    "plt.title(\"Axes Aren't Comparable\")\n",
    "plt.xlabel(\"test 1 grade\")\n",
    "plt.ylabel(\"test 2 grade\")\n",
    "plt.show()"
   ]
  },
  {
   "cell_type": "code",
   "execution_count": 28,
   "metadata": {},
   "outputs": [
    {
     "data": {
      "image/png": "[encoded data removed]",
      "text/plain": [
       "<Figure size 432x288 with 1 Axes>"
      ]
     },
     "metadata": {
      "needs_background": "light"
     },
     "output_type": "display_data"
    }
   ],
   "source": [
    "test_1_grades = [ 99, 90, 85, 97, 80]\n",
    "test_2_grades = [100, 85, 60, 90, 70]\n",
    "plt.scatter(test_1_grades, test_2_grades)\n",
    "plt.title(\"Axes Are Comparable\")\n",
    "plt.axis(\"equal\") # see in axis('equal') to compare which relatively has more variation\n",
    "plt.xlabel(\"test 1 grade\")\n",
    "plt.ylabel(\"test 2 grade\")\n",
    "plt.savefig('my_scatter_plot.png')"
   ]
  },
  {
   "cell_type": "code",
   "execution_count": null,
   "metadata": {},
   "outputs": [],
   "source": []
  }
 ],
 "metadata": {
  "kernelspec": {
   "display_name": "Python 3",
   "language": "python",
   "name": "python3"
  },
  "language_info": {
   "codemirror_mode": {
    "name": "ipython",
    "version": 3
   },
   "file_extension": ".py",
   "mimetype": "text/x-python",
   "name": "python",
   "nbconvert_exporter": "python",
   "pygments_lexer": "ipython3",
   "version": "3.7.1"
  }
 },
 "nbformat": 4,
 "nbformat_minor": 2
}
