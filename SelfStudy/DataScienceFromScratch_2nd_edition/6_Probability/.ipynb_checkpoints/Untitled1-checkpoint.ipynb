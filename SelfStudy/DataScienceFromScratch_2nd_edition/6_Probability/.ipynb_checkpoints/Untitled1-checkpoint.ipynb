{
 "cells": [
  {
   "cell_type": "code",
   "execution_count": 1,
   "metadata": {},
   "outputs": [
    {
     "data": {
      "text/plain": [
       "0.00980392156862745"
      ]
     },
     "execution_count": 1,
     "metadata": {},
     "output_type": "execute_result"
    }
   ],
   "source": [
    "a = 0.99 * 0.0001\n",
    "b = 0.01 * 0.9999\n",
    "\n",
    "a/(a+b)"
   ]
  },
  {
   "cell_type": "code",
   "execution_count": 2,
   "metadata": {},
   "outputs": [
    {
     "data": {
      "text/plain": [
       "0.598"
      ]
     },
     "execution_count": 2,
     "metadata": {},
     "output_type": "execute_result"
    }
   ],
   "source": [
    "0.99*0.6 + 0.01*0.4"
   ]
  },
  {
   "cell_type": "code",
   "execution_count": 3,
   "metadata": {},
   "outputs": [
    {
     "data": {
      "text/plain": [
       "'98%'"
      ]
     },
     "execution_count": 3,
     "metadata": {},
     "output_type": "execute_result"
    }
   ],
   "source": [
    "'{}%'.format(round(0.98*0.6/0.598 * 100))"
   ]
  },
  {
   "cell_type": "code",
   "execution_count": 4,
   "metadata": {},
   "outputs": [
    {
     "data": {
      "text/plain": [
       "0.00980392156862745"
      ]
     },
     "execution_count": 4,
     "metadata": {},
     "output_type": "execute_result"
    }
   ],
   "source": [
    "99/(9999 + 99)"
   ]
  },
  {
   "cell_type": "code",
   "execution_count": 33,
   "metadata": {},
   "outputs": [
    {
     "name": "stdout",
     "output_type": "stream",
     "text": [
      "2.04\n",
      "2.61\n",
      "1.678\n",
      "2.61\n",
      "1.396\n",
      "1.834\n",
      "1.798\n",
      "0.651\n",
      "0.597\n",
      "1.865\n",
      "2.969\n",
      "2.326\n",
      "2.888\n",
      "1.747\n",
      "0.02\n",
      "2.834\n",
      "1.747\n",
      "1.891\n",
      "0.005\n",
      "2.202\n",
      "0.89\n",
      "2.341\n",
      "0.088\n",
      "2.828\n",
      "1.19\n",
      "0.813\n",
      "1.414\n",
      "2.526\n",
      "0.894\n",
      "1.611\n",
      "1.568\n",
      "0.636\n",
      "2.89\n",
      "2.618\n",
      "0.028\n",
      "0.398\n",
      "0.653\n",
      "1.458\n",
      "1.717\n",
      "1.261\n",
      "1.364\n",
      "2.617\n",
      "1.247\n",
      "0.658\n",
      "1.875\n",
      "1.425\n",
      "2.538\n",
      "0.034\n",
      "1.551\n",
      "1.135\n",
      "2.241\n",
      "2.002\n",
      "1.61\n",
      "1.305\n",
      "1.29\n",
      "0.43\n",
      "2.546\n",
      "2.068\n",
      "2.968\n",
      "2.357\n",
      "2.717\n",
      "2.584\n",
      "1.301\n",
      "1.262\n",
      "2.335\n",
      "2.436\n",
      "2.658\n",
      "2.611\n",
      "0.216\n",
      "0.211\n",
      "0.691\n",
      "1.775\n",
      "2.973\n",
      "2.851\n",
      "1.774\n",
      "2.252\n",
      "1.559\n",
      "0.215\n",
      "0.19\n",
      "1.477\n",
      "2.542\n",
      "0.15\n",
      "2.394\n",
      "2.448\n",
      "1.568\n",
      "2.424\n",
      "0.868\n",
      "0.157\n",
      "1.373\n",
      "1.344\n",
      "2.246\n",
      "2.737\n",
      "1.655\n",
      "0.702\n",
      "1.17\n",
      "1.407\n",
      "0.656\n",
      "2.473\n",
      "1.096\n",
      "0.695\n",
      "Help on built-in function random:\n",
      "\n",
      "random(...) method of random.Random instance\n",
      "    random() -> x in the interval [0, 1).\n",
      "\n"
     ]
    }
   ],
   "source": [
    "from random import *\n",
    "for _ in range(100):\n",
    "    print(round(3*random(),3))\n",
    "    \n",
    "help(random)"
   ]
  },
  {
   "cell_type": "code",
   "execution_count": 25,
   "metadata": {},
   "outputs": [],
   "source": [
    "def uniform_pdf(x: float) -> float:\n",
    "    return 1 if 0 <= x < 1 else 0"
   ]
  },
  {
   "cell_type": "code",
   "execution_count": 28,
   "metadata": {},
   "outputs": [],
   "source": [
    "def uniform_cdf(x: float) -> float:\n",
    "    return 0 if x < 0 else (x if 0<=x<1 else 1)"
   ]
  },
  {
   "cell_type": "code",
   "execution_count": 41,
   "metadata": {},
   "outputs": [
    {
     "data": {
      "text/plain": [
       "0.19947114020071635"
      ]
     },
     "execution_count": 41,
     "metadata": {},
     "output_type": "execute_result"
    }
   ],
   "source": [
    "# x 에 따른 , 특정 정규분포에서의 값\n",
    "\n",
    "import math\n",
    "SQRT_2_PI = math.sqrt(2 * math.pi) # 2pi ** 1/2\n",
    "\n",
    "def normal_pdf(x: float, mu: float = 0, sigma: float = 1) -> float:\n",
    "    return (math.exp(-(x-mu)**2 / 2 / (sigma ** 2))) / (SQRT_2_PI* sigma)\n",
    "\n",
    "# check\n",
    "normal_pdf(10,10,2)"
   ]
  },
  {
   "cell_type": "code",
   "execution_count": 49,
   "metadata": {},
   "outputs": [
    {
     "data": {
      "image/png": "[encoded data removed]",
      "text/plain": [
       "<Figure size 432x288 with 1 Axes>"
      ]
     },
     "metadata": {
      "needs_background": "light"
     },
     "output_type": "display_data"
    }
   ],
   "source": [
    "import matplotlib.pyplot as plt\n",
    "xs = [x/10.0 for x in range(-50, 50)] # -5<= <5 0.1 간격\n",
    "plt.plot(xs, [normal_pdf(x, mu=0 ,sigma = 1) for x in xs], '-', label = 'mu=0, sigma=1')\n",
    "plt.plot(xs, [normal_pdf(x, mu=0 ,sigma = 2) for x in xs], '--', label = 'mu=0, sigma=2')\n",
    "plt.plot(xs, [normal_pdf(x, mu=0 ,sigma = 0.5) for x in xs], ':', label = 'mu=0, sigma=0.5')\n",
    "plt.plot(xs, [normal_pdf(x, mu=-1 ,sigma = 1) for x in xs], '-', label = 'mu=-1, sigma=1')\n",
    "plt.legend()\n",
    "plt.title('various normal pdfs')\n",
    "plt.show()"
   ]
  },
  {
   "cell_type": "code",
   "execution_count": 50,
   "metadata": {},
   "outputs": [],
   "source": [
    "def normal_cdf(x: float, mu: float = 0, sigma: float = 1) -> float:\n",
    "    \n",
    "    return (1 + math.erf((x - mu) / math.sqrt(2) / sigma)) / 2"
   ]
  },
  {
   "cell_type": "code",
   "execution_count": 57,
   "metadata": {},
   "outputs": [
    {
     "data": {
      "image/png": "[encoded data removed]",
      "text/plain": [
       "<Figure size 432x288 with 1 Axes>"
      ]
     },
     "metadata": {
      "needs_background": "light"
     },
     "output_type": "display_data"
    }
   ],
   "source": [
    "xs = [x / 10.0 for x in range(-50, 50)]\n",
    "plt.plot(xs, [normal_cdf(i, sigma = 1) for i in xs], '-', label = 'mu=0, sigma=1')\n",
    "plt.plot(xs, [normal_cdf(i, sigma = 2) for i in xs], '--', label = 'mu=0, sigma=2')\n",
    "plt.plot(xs, [normal_cdf(i, sigma = 0.5) for i in xs], ':', label = 'mu=0, sigma=0.5')\n",
    "plt.plot(xs, [normal_cdf(i, mu=-1) for i in xs], '-.', label = 'mu=-1, sigma=1')\n",
    "plt.legend(loc=4)\n",
    "plt.title('various normal dist cdfs')\n",
    "plt.show()"
   ]
  },
  {
   "cell_type": "code",
   "execution_count": 64,
   "metadata": {},
   "outputs": [],
   "source": [
    "def inverse_normal_cdf(p: float, mu: float = 0, sigma: float = 1, \\\n",
    "                       tolerance: float = 0.00001) -> float:\n",
    "    \n",
    "    # 1. if user changes default, and thus it's not about standard normal dist.\n",
    "    # compute standard and rescale it back to original dist.\n",
    "    \n",
    "    if mu != 0 or sigma != 1:\n",
    "        return mu + sigma * inverse_normal_cdf(p, tolerance = tolerance)\n",
    "    \n",
    "    # set low_z, high_z\n",
    "    low_z = -10.0\n",
    "    high_z = 10.0\n",
    "    \n",
    "    while high_z - low_z > tolerance:\n",
    "        \n",
    "        mid_z = (low_z + high_z) / 2\n",
    "        \n",
    "        mid_p = normal_cdf(mid_z)\n",
    "        \n",
    "        if mid_p < p:\n",
    "            low_z = mid_z\n",
    "        else:\n",
    "            high_z = mid_z\n",
    "            \n",
    "    return mid_z"
   ]
  },
  {
   "cell_type": "code",
   "execution_count": 65,
   "metadata": {},
   "outputs": [
    {
     "data": {
      "text/plain": [
       "1.2815570831298828"
      ]
     },
     "execution_count": 65,
     "metadata": {},
     "output_type": "execute_result"
    }
   ],
   "source": [
    "inverse_normal_cdf(0.9)"
   ]
  },
  {
   "cell_type": "markdown",
   "metadata": {},
   "source": [
    "# Central Limit Theorem"
   ]
  },
  {
   "cell_type": "markdown",
   "metadata": {},
   "source": [
    "CLT\n",
    ": sample size n이 충분히 클때, 이 샘플의 '평균'들은 노말 분포를 따르며 평균은 기존의 $\\mu$, 표준편차는\n",
    "$\\frac{\\sigma}{\\sqrt{n}}$ 를 따른다."
   ]
  },
  {
   "cell_type": "markdown",
   "metadata": {},
   "source": [
    "더 자주 쓰이는 해석으로 다음의 값이\n",
    "$\\frac{(x_{1} + x_{2} + x_{3} ... x_{n}) - \\mu n}{\\sigma\\sqrt{n}}$\n",
    "~ N(0,1)을 따른다."
   ]
  },
  {
   "cell_type": "code",
   "execution_count": null,
   "metadata": {},
   "outputs": [],
   "source": []
  }
 ],
 "metadata": {
  "kernelspec": {
   "display_name": "Python 3",
   "language": "python",
   "name": "python3"
  },
  "language_info": {
   "codemirror_mode": {
    "name": "ipython",
    "version": 3
   },
   "file_extension": ".py",
   "mimetype": "text/x-python",
   "name": "python",
   "nbconvert_exporter": "python",
   "pygments_lexer": "ipython3",
   "version": "3.7.1"
  }
 },
 "nbformat": 4,
 "nbformat_minor": 2
}
