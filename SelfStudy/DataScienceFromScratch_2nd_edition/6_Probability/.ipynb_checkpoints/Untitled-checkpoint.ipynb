{
 "cells": [
  {
   "cell_type": "markdown",
   "metadata": {},
   "source": [
    "# Probability"
   ]
  },
  {
   "cell_type": "code",
   "execution_count": 1,
   "metadata": {},
   "outputs": [],
   "source": [
    "# 사건의 '!!불확실성!!'을 수치화하는 것. (사건 공간 : 가능한 모든 경우의수에서 A에 해당하는 것들)\n",
    "\n",
    "# 1). 확률론은 모델을 빌드할 때도 쓰고\n",
    "# 2). 모델을 평가할 때도 쓰고\n",
    "# 3). 모든 곳에서 사용할 것이다."
   ]
  },
  {
   "cell_type": "markdown",
   "metadata": {},
   "source": [
    "## 1). 독립, 비독립"
   ]
  },
  {
   "cell_type": "code",
   "execution_count": 2,
   "metadata": {},
   "outputs": [],
   "source": [
    "# 우리반 학생이라는 outcome space가 있다고 하자.\n",
    "# 그 중 어떤 목적 없이, 그냥 대충 한 명을 픽한다고 할 때,\n",
    "# 그 (사람이 상위권 : 사건 B)일 확률 (상위권은 반에서 15% 에 해당한다고 치자.)\n",
    "# 그 (사람이 여자라는 것 : 사건 B)을 알았을 때, 그 사람이 상위권일 확률이 같다면\n",
    "# 누가 '니가 뽑은 걔 여자애야(50명으로 범위 축소)'라고 한들, 내가 상위권을 뽑을 확률이 높아지지 않고 그대로라면,\n",
    "# 그러니까, 여자애들중에서도 그저 15%가 상위권이라면,\n",
    "# 이때 사건 에이 : 뽑은 애가 여자다, 사건 삐 : 그 사람이 상위권이다는 => 독립이다.\n",
    "\n",
    "# 우리반 학생들이라는 outcome space가 있다고 하자.\n",
    "# 임의로 픽한다, 나는 딱히 관심 없으므로 시크하게.\n",
    "# 그 사람이 피파를 한다 : 사건 에이\n",
    "# 그 사람이 남자다 : 사건 삐\n",
    "\n",
    "#      피파 해    피파 안해\n",
    "# 여자    10        40      50\n",
    "# 남자    40        10      50\n",
    "#        50        50\n",
    "\n",
    "# 전체 아웃컴 공간 100 중에 피파를 한다라는 사건이 일어날 확률은 50/100 ==> 1/2\n",
    "# 근데 만약, 나는 보고 있지도 않은데 순간, 니가 뽑은 애가 여자야라는 걸 알게된다면 순간\n",
    "# 전체 outcome space는 50으로 축소된다. 동시에 여자들은 상대적으로 적게한다. 10/50 ==> 1/5\n",
    "\n",
    "# 기븐 여학생, 한순간에 아웃컴 스페이스 보다 빠르게 사건 에이에 해당하는 사람의 수도 줄어든다.\n",
    "\n",
    "# 여자라는 것을 알았을 때 \n",
    "# 피파 해의 확률\n",
    "# 급 축소.\n",
    "\n",
    "# 여자라는 것과 피파한다는 것은 => '비독립'\n",
    "# 여자라는 것과 우리반에서 상위권이다 => '독립'"
   ]
  },
  {
   "cell_type": "code",
   "execution_count": 4,
   "metadata": {},
   "outputs": [],
   "source": [
    "# < AND 확률 >\n",
    "# P(A and B) = P(A) * P(B|A) IF INDE, p(A) * p(B)\n",
    "# P(A or B) = P(A) + p(B) - P(A and B) IF DISJ, p(A) + P(B)"
   ]
  },
  {
   "cell_type": "code",
   "execution_count": 5,
   "metadata": {},
   "outputs": [],
   "source": [
    "# < 조건부 확률 >\n",
    "# P(E|F) = P(E and F) / P(F)"
   ]
  },
  {
   "cell_type": "code",
   "execution_count": 6,
   "metadata": {},
   "outputs": [],
   "source": [
    "# < 독립 확률 >\n",
    "# p(E|F) = P(E)"
   ]
  },
  {
   "cell_type": "code",
   "execution_count": 9,
   "metadata": {},
   "outputs": [],
   "source": [
    "# 모든 경우의 수 -> 결과 공간 : 4 / 해당 사건 공간 : ~\n",
    "# (걸, 걸), (보이, 걸), (걸, 보이), (보이,보이) 첫째, 둘째"
   ]
  },
  {
   "cell_type": "code",
   "execution_count": 42,
   "metadata": {},
   "outputs": [
    {
     "name": "stdout",
     "output_type": "stream",
     "text": [
      "P(both | older): 0.5007089325501317\n",
      "P(both | either): 0.3311897106109325\n"
     ]
    }
   ],
   "source": [
    "# simulation의 의미.\n",
    "import enum, random\n",
    "\n",
    "class kid(enum.Enum):\n",
    "    BOY = 0\n",
    "    GIRL = 1\n",
    "    \n",
    "def random_kid() -> kid:\n",
    "    return random.choice([kid.BOY, kid.GIRL])\n",
    "\n",
    "both_girls = 0\n",
    "older_girl = 0\n",
    "either_girl = 0\n",
    "\n",
    "random.seed(0)\n",
    "\n",
    "for _ in range(10000):\n",
    "    younger = random_kid()\n",
    "    older = random_kid()\n",
    "    \n",
    "    if older == kid.GIRL:\n",
    "        older_girl += 1\n",
    "        \n",
    "    if older == kid.GIRL and younger == kid.GIRL:\n",
    "        both_girls += 1\n",
    "    \n",
    "    if older == kid.GIRL or younger == kid.GIRL:\n",
    "        either_girl += 1\n",
    "        \n",
    "\n",
    "print(\"P(both | older):\", both_girls / older_girl)\n",
    "\n",
    "print('P(both | either):', both_girls / either_girl)\n",
    "\n",
    "# 대수의 법칙 : 어떤 확률의 씨앗을 품고, 그 시행을 만번 이상하면, 결국 10000회중 확률은 씨앗확률로 회귀한다."
   ]
  },
  {
   "cell_type": "markdown",
   "metadata": {},
   "source": [
    "# Bayes's Theorem"
   ]
  },
  {
   "cell_type": "code",
   "execution_count": null,
   "metadata": {},
   "outputs": [],
   "source": [
    "# P(E|F) -> P(F|E)"
   ]
  },
  {
   "cell_type": "code",
   "execution_count": null,
   "metadata": {},
   "outputs": [],
   "source": []
  }
 ],
 "metadata": {
  "kernelspec": {
   "display_name": "Python 3",
   "language": "python",
   "name": "python3"
  },
  "language_info": {
   "codemirror_mode": {
    "name": "ipython",
    "version": 3
   },
   "file_extension": ".py",
   "mimetype": "text/x-python",
   "name": "python",
   "nbconvert_exporter": "python",
   "pygments_lexer": "ipython3",
   "version": "3.7.1"
  }
 },
 "nbformat": 4,
 "nbformat_minor": 2
}
