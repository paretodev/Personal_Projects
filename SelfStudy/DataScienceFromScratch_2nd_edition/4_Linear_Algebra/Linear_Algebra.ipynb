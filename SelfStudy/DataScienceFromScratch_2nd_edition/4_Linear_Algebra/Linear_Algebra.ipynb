{
 "cells": [
  {
   "cell_type": "markdown",
   "metadata": {},
   "source": [
    "# 7. 14 일요일"
   ]
  },
  {
   "cell_type": "markdown",
   "metadata": {},
   "source": [
    "# Type Annotations"
   ]
  },
  {
   "cell_type": "code",
   "execution_count": 2,
   "metadata": {},
   "outputs": [
    {
     "ename": "TypeError",
     "evalue": "unsupported operand type(s) for +: 'int' and 'str'",
     "output_type": "error",
     "traceback": [
      "\u001b[0;31m---------------------------------------------------------------------------\u001b[0m",
      "\u001b[0;31mTypeError\u001b[0m                                 Traceback (most recent call last)",
      "\u001b[0;32m<ipython-input-2-24bba314c64d>\u001b[0m in \u001b[0;36m<module>\u001b[0;34m\u001b[0m\n\u001b[1;32m      2\u001b[0m     \u001b[0;32mreturn\u001b[0m \u001b[0ma\u001b[0m\u001b[0;34m+\u001b[0m\u001b[0mb\u001b[0m\u001b[0;34m\u001b[0m\u001b[0;34m\u001b[0m\u001b[0m\n\u001b[1;32m      3\u001b[0m \u001b[0;34m\u001b[0m\u001b[0m\n\u001b[0;32m----> 4\u001b[0;31m \u001b[0madd\u001b[0m\u001b[0;34m(\u001b[0m\u001b[0;36m10\u001b[0m\u001b[0;34m,\u001b[0m \u001b[0;34m'five'\u001b[0m\u001b[0;34m)\u001b[0m\u001b[0;34m\u001b[0m\u001b[0;34m\u001b[0m\u001b[0m\n\u001b[0m",
      "\u001b[0;32m<ipython-input-2-24bba314c64d>\u001b[0m in \u001b[0;36madd\u001b[0;34m(a, b)\u001b[0m\n\u001b[1;32m      1\u001b[0m \u001b[0;32mdef\u001b[0m \u001b[0madd\u001b[0m\u001b[0;34m(\u001b[0m\u001b[0ma\u001b[0m\u001b[0;34m,\u001b[0m\u001b[0mb\u001b[0m\u001b[0;34m)\u001b[0m\u001b[0;34m:\u001b[0m\u001b[0;34m\u001b[0m\u001b[0;34m\u001b[0m\u001b[0m\n\u001b[0;32m----> 2\u001b[0;31m     \u001b[0;32mreturn\u001b[0m \u001b[0ma\u001b[0m\u001b[0;34m+\u001b[0m\u001b[0mb\u001b[0m\u001b[0;34m\u001b[0m\u001b[0;34m\u001b[0m\u001b[0m\n\u001b[0m\u001b[1;32m      3\u001b[0m \u001b[0;34m\u001b[0m\u001b[0m\n\u001b[1;32m      4\u001b[0m \u001b[0madd\u001b[0m\u001b[0;34m(\u001b[0m\u001b[0;36m10\u001b[0m\u001b[0;34m,\u001b[0m \u001b[0;34m'five'\u001b[0m\u001b[0;34m)\u001b[0m\u001b[0;34m\u001b[0m\u001b[0;34m\u001b[0m\u001b[0m\n",
      "\u001b[0;31mTypeError\u001b[0m: unsupported operand type(s) for +: 'int' and 'str'"
     ]
    }
   ],
   "source": [
    "def add(a,b):\n",
    "    return a+b\n",
    "\n",
    "add(10, 'five') # raise type error"
   ]
  },
  {
   "cell_type": "code",
   "execution_count": 3,
   "metadata": {},
   "outputs": [],
   "source": [
    "def add(a: int, b: int) -> int:\n",
    "    return a+b"
   ]
  },
  {
   "cell_type": "code",
   "execution_count": 11,
   "metadata": {},
   "outputs": [],
   "source": [
    "def dot_product(x: list, y: list) -> float:\n",
    "    \n",
    "    import numpy as np\n",
    "    \n",
    "    x = np.array(x)\n",
    "    y = np.array(y)\n",
    "    \n",
    "    if len(x) != len(y):\n",
    "        raise('dimension mismatch')\n",
    "    \n",
    "    return np.dot(x,y)"
   ]
  },
  {
   "cell_type": "code",
   "execution_count": 10,
   "metadata": {},
   "outputs": [
    {
     "data": {
      "text/plain": [
       "72"
      ]
     },
     "execution_count": 10,
     "metadata": {},
     "output_type": "execute_result"
    }
   ],
   "source": [
    "dot_product([1,23,1], [2,3,1])"
   ]
  },
  {
   "cell_type": "code",
   "execution_count": 12,
   "metadata": {
    "scrolled": true
   },
   "outputs": [
    {
     "name": "stdout",
     "output_type": "stream",
     "text": [
      "Collecting mypy\n",
      "\u001b[?25l  Downloading https://files.pythonhosted.org/packages/0f/c2/8517d62169d10a8217c424af89389e550217e478a7b4d85119a6abeb8b8e/mypy-0.720-cp37-cp37m-macosx_10_6_x86_64.macosx_10_9_intel.macosx_10_9_x86_64.macosx_10_10_intel.macosx_10_10_x86_64.whl (13.6MB)\n",
      "\u001b[K    100% |████████████████████████████████| 13.6MB 1.1MB/s ta 0:00:011  54% |█████████████████▌              | 7.4MB 1.7MB/s eta 0:00:04\n",
      "\u001b[?25hCollecting typing-extensions>=3.7.4 (from mypy)\n",
      "  Downloading https://files.pythonhosted.org/packages/27/aa/bd1442cfb0224da1b671ab334d3b0a4302e4161ea916e28904ff9618d471/typing_extensions-3.7.4-py3-none-any.whl\n",
      "Collecting typed-ast<1.5.0,>=1.4.0 (from mypy)\n",
      "\u001b[?25l  Downloading https://files.pythonhosted.org/packages/a0/03/266268b053ad81b8aea17bc3f5e6d3cf074bb4372d229336867a67e17076/typed_ast-1.4.0-cp37-cp37m-macosx_10_9_x86_64.whl (215kB)\n",
      "\u001b[K    100% |████████████████████████████████| 225kB 1.5MB/s ta 0:00:01\n",
      "\u001b[?25hCollecting mypy-extensions<0.5.0,>=0.4.0 (from mypy)\n",
      "  Downloading https://files.pythonhosted.org/packages/4d/72/8d54e2b296631b9b14961d583e56e90d9d7fba8a240d5ce7f1113cc5e887/mypy_extensions-0.4.1-py2.py3-none-any.whl\n",
      "Installing collected packages: typing-extensions, typed-ast, mypy-extensions, mypy\n",
      "Successfully installed mypy-0.720 mypy-extensions-0.4.1 typed-ast-1.4.0 typing-extensions-3.7.4\n"
     ]
    }
   ],
   "source": [
    "!pip install mypy"
   ]
  },
  {
   "cell_type": "code",
   "execution_count": 13,
   "metadata": {},
   "outputs": [],
   "source": [
    "!cd /Users/sucky/Desktop/"
   ]
  },
  {
   "cell_type": "code",
   "execution_count": 21,
   "metadata": {},
   "outputs": [],
   "source": [
    "!mypy /Users/sucky/Desktop/add.py # no problem if there is no error"
   ]
  },
  {
   "cell_type": "code",
   "execution_count": 22,
   "metadata": {},
   "outputs": [
    {
     "name": "stdout",
     "output_type": "stream",
     "text": [
      "{'data': 1, 'science': 2}\n",
      "type_hints, type_hints\n"
     ]
    }
   ],
   "source": [
    "from typing import Dict, Iterable, Tuple\n",
    "\n",
    "counts: Dict[str, int] = {'data': 1, 'science': 2}\n",
    "\n",
    "print(counts)\n",
    "\n",
    "lazy = 1\n",
    "\n",
    "if lazy:\n",
    "\tevens: Iterable[int] = (x for x in range(10) if x % 2 == 0)\n",
    "else:\n",
    "\tevens = [0, 2, 4, 6, 8]\n",
    "\n",
    "#\n",
    "triple: Tuple[int, int, int, int, str] = (2,3,4,5,'haha')\n",
    "\n",
    "from typing import Callable # function handle\n",
    "\n",
    "def twice( repeater: Callable[[str,int], str], s:str) -> str:\n",
    "\treturn repeater(s, 2)\n",
    "\n",
    "def comma_repeater(s: str, n: int) -> str:\n",
    "\tn_copies = [s for _ in range(n)]\n",
    "\treturn ', '.join(n_copies)\n",
    "\n",
    "print(twice(comma_repeater, 'type_hints'))"
   ]
  },
  {
   "cell_type": "code",
   "execution_count": 25,
   "metadata": {},
   "outputs": [],
   "source": [
    "from typing import List\n",
    "\n",
    "Vector = List[float]\n",
    "\n",
    "height_weight_age = [70, 170, 40]\n",
    "grades = [95, 80, 75, 62]"
   ]
  },
  {
   "cell_type": "code",
   "execution_count": 50,
   "metadata": {},
   "outputs": [],
   "source": [
    "# _______________________________________________________________________ \n",
    "def add(v: Vector, w: Vector) -> Vector:\n",
    "    \"\"\"Adds corresponding elements.\"\"\"\n",
    "    \n",
    "    #1. Make error for mismatch in dimension.\n",
    "    assert len(v) == len(w)\n",
    "    \n",
    "    #2. Do it with list comprehension\n",
    "    return [x+y for x,y in zip(v,w)]\n",
    "\n",
    "    #adding vector : numpy +\n",
    "    \n",
    "    \n",
    "#check with assert function\n",
    "assert add([1,2,3], [4,5,6]) == [5,7,9]\n",
    "\n",
    "\n",
    "# _______________________________________________________________________ \n",
    "def subtract(v: Vector, w: Vector) -> Vector:\n",
    "    \"\"\"subtracts corresponding elements.\"\"\"\n",
    "    \n",
    "    #1. Make error for mismatch in dimension.\n",
    "    assert len(v) == len(w)\n",
    "    \n",
    "    #2. Do it with list comprehension\n",
    "    return [x-y for x,y in zip(v,w)]\n",
    "\n",
    "    #subtracting vector : numpy -\n",
    "    \n",
    "#check with assert function\n",
    "assert subtract([1,2,3], [4,5,6]) == [-3, -3, -3]\n",
    "\n",
    "\n",
    "# _______________________________________________________________________ \n",
    "def vector_sum(vectors: List[Vector]) -> Vector:\n",
    "    \"\"\"sums all corresponding elements.\"\"\"\n",
    "    \n",
    "    # Make error if there is None\n",
    "    assert vectors, \"no vectors provided!\"\n",
    "    \n",
    "    # Check if vector dimension all matches\n",
    "    num_elements = len(vectors[0])\n",
    "    assert all(len(v) == num_elements for v in vectors)\n",
    "    \n",
    "    # return i th element\n",
    "    return [sum(vector[i] for vector in vectors) for i in range(num_elements)]\n",
    "\n",
    "\n",
    "assert vector_sum([[1, 2], [3, 4], [5, 6], [7, 8]]) == [16, 20]\n",
    "\n",
    "\n",
    "def scalar_multiply(c: float, v: Vector) -> Vector :\n",
    "    \"\"\"Multiplies every element by c\"\"\"    \n",
    "    return [c*i for i in v]\n",
    "\n",
    "assert scalar_multiply(2,[1,2,3]) == [2,4,6]\n",
    "\n",
    "def vector_mean(vectors: List[Vector]) -> Vector:\n",
    "    \n",
    "    # vector가 몇개인지\n",
    "    n = len(vectors)\n",
    "    \n",
    "    return scalar_multiply(1/n, vector_sum(vectors))\n",
    "\n",
    "assert scalar_multiply(2, [1, 2, 3]) == [2, 4, 6]"
   ]
  },
  {
   "cell_type": "code",
   "execution_count": 53,
   "metadata": {},
   "outputs": [],
   "source": [
    "def dot_product(v: Vector, w: Vector) -> float:\n",
    "    \n",
    "    assert len(v) == len(w)\n",
    "    \n",
    "    return sum(x*y for x,y in zip(v,w))\n",
    "\n",
    "assert dot_product( [1,2,3], [4,5,6]) == 32"
   ]
  },
  {
   "cell_type": "code",
   "execution_count": 52,
   "metadata": {},
   "outputs": [],
   "source": []
  },
  {
   "cell_type": "code",
   "execution_count": null,
   "metadata": {},
   "outputs": [],
   "source": []
  }
 ],
 "metadata": {
  "kernelspec": {
   "display_name": "Python 3",
   "language": "python",
   "name": "python3"
  },
  "language_info": {
   "codemirror_mode": {
    "name": "ipython",
    "version": 3
   },
   "file_extension": ".py",
   "mimetype": "text/x-python",
   "name": "python",
   "nbconvert_exporter": "python",
   "pygments_lexer": "ipython3",
   "version": "3.7.1"
  }
 },
 "nbformat": 4,
 "nbformat_minor": 2
}
