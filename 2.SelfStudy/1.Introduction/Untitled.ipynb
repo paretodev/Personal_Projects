{
 "cells": [
  {
   "cell_type": "markdown",
   "metadata": {},
   "source": [
    "# Chapter 1. Introduction to DataScience"
   ]
  },
  {
   "cell_type": "markdown",
   "metadata": {},
   "source": [
    "### < Themes > \n",
    "* 1). Finding Key Connectors.\n",
    "* 2). Data Scientist You May Know."
   ]
  },
  {
   "cell_type": "code",
   "execution_count": 141,
   "metadata": {},
   "outputs": [],
   "source": [
    "# at this stage in the book we haven't actually installed matplotlib,\n",
    "# comment this out if you need to\n",
    "from matplotlib import pyplot as plt\n",
    "\n",
    "##########################\n",
    "#                        #\n",
    "# FINDING KEY CONNECTORS #\n",
    "#                        #\n",
    "##########################\n",
    "\n",
    "users = [\n",
    "    { \"id\": 0, \"name\": \"Hero\" },\n",
    "    { \"id\": 1, \"name\": \"Dunn\" },\n",
    "    { \"id\": 2, \"name\": \"Sue\" },\n",
    "    { \"id\": 3, \"name\": \"Chi\" },\n",
    "    { \"id\": 4, \"name\": \"Thor\" },\n",
    "    { \"id\": 5, \"name\": \"Clive\" },\n",
    "    { \"id\": 6, \"name\": \"Hicks\" },\n",
    "    { \"id\": 7, \"name\": \"Devin\" },\n",
    "    { \"id\": 8, \"name\": \"Kate\" },\n",
    "    { \"id\": 9, \"name\": \"Klein\" },\n",
    "    { \"id\": 10, \"name\": \"Jen\" }\n",
    "]\n",
    "\n",
    "friendships = [(0, 1), (0, 2), (1, 2), (1, 3), (2, 3), (3, 4),\n",
    "               (4, 5), (5, 6), (5, 7), (6, 8), (7, 8), (8, 9)]\n",
    "\n",
    "\n",
    "# first give each user an empty list\n",
    "for user in users:\n",
    "    user[\"friends\"] = []\n",
    "\n",
    "# and then populate the lists with friendships\n",
    "for i, j in friendships:\n",
    "    # this works because users[i] is the user whose id is i\n",
    "    users[i][\"friends\"].append(users[j]) # add i as a friend of j\n",
    "    users[j][\"friends\"].append(users[i]) # add j as a friend of i\n",
    "\n",
    "def number_of_friends(user):\n",
    "    \"\"\"how many friends does _user_ have?\"\"\"\n",
    "    return len(user[\"friends\"]) # length of friend_ids list\n",
    "\n",
    "total_connections = sum(number_of_friends(user)\n",
    "                        for user in users) # 24\n",
    "\n",
    "num_users = len(users)\n",
    "avg_connections = total_connections / num_users # 2.4"
   ]
  },
  {
   "cell_type": "code",
   "execution_count": 142,
   "metadata": {},
   "outputs": [],
   "source": [
    "# Data Scientist You May Know : (Suggester in SNS)\n",
    "\n",
    "def FOF_id_list(user_id):\n",
    "    \n",
    "    # 1. query input id and find the corresponding dictionary\n",
    "    for user in users:\n",
    "        if user['id'] == user_id:\n",
    "            the_user_dict = user\n",
    "    \n",
    "    # 2. make an empty list to return result.\n",
    "    fof_list = []\n",
    "    \n",
    "    # 3. iterate friends of input and append the friends of the ones who are the input's friends.\n",
    "    for friend in the_user_dict['friends']:\n",
    "        for friend in friend['friends']:\n",
    "            if friend['id'] != user_id:\n",
    "                fof_list.append(friend['id'])\n",
    "    \n",
    "    fof_list = list(set(fof_list))\n",
    "    \n",
    "    return fof_list"
   ]
  },
  {
   "cell_type": "code",
   "execution_count": 143,
   "metadata": {},
   "outputs": [],
   "source": [
    "# In Python, try harder to do it in list comprehension.\n",
    "\n",
    "def FOF_id_list_2(user_id):\n",
    "    for user in users:\n",
    "        if user['id'] == user_id:\n",
    "            the_user_dict = user\n",
    "    \n",
    "    return list(\n",
    "           set(\n",
    "            [ foaf['id']\n",
    "            for friend in the_user_dict['friends']\n",
    "            for foaf in friend['friends'] \n",
    "            if foaf['id']!=user_id ]\n",
    "              )\n",
    "               )"
   ]
  },
  {
   "cell_type": "code",
   "execution_count": 144,
   "metadata": {},
   "outputs": [
    {
     "data": {
      "text/plain": [
       "[1, 2, 3]"
      ]
     },
     "execution_count": 144,
     "metadata": {},
     "output_type": "execute_result"
    }
   ],
   "source": [
    "FOF_id_list_2(0)"
   ]
  },
  {
   "cell_type": "markdown",
   "metadata": {},
   "source": [
    "#  Exclude Mutual Friends in Suggester System."
   ]
  },
  {
   "cell_type": "code",
   "execution_count": 145,
   "metadata": {},
   "outputs": [],
   "source": [
    "# import counter func\n",
    "from collections import Counter\n",
    "\n",
    "# make not_the_same checking function\n",
    "def not_the_same(user, other_user):\n",
    "    return user['id'] != other_user['id']\n",
    "\n",
    "# make not_friends function\n",
    "def not_friends(user, other_user):\n",
    "    return all( not_the_same(friend, other_user) for friend in user['friends'] )\n",
    "\n",
    "# make foaf not same , not mutual suggest list counter\n",
    "\n",
    "def friends_of_friend_ids(user):\n",
    "    return Counter(\n",
    "    foaf['id']\n",
    "    for friend in user['friends']\n",
    "    for foaf in friend['friends']\n",
    "    if not_the_same(user, foaf) and not_friends(user, foaf)\n",
    "    )"
   ]
  },
  {
   "cell_type": "code",
   "execution_count": 146,
   "metadata": {},
   "outputs": [
    {
     "data": {
      "text/plain": [
       "{0: Counter({3: 2}),\n",
       " 1: Counter({4: 1}),\n",
       " 2: Counter({4: 1}),\n",
       " 3: Counter({0: 2, 5: 1}),\n",
       " 4: Counter({1: 1, 2: 1, 6: 1, 7: 1}),\n",
       " 5: Counter({3: 1, 8: 2}),\n",
       " 6: Counter({4: 1, 7: 2, 9: 1}),\n",
       " 7: Counter({4: 1, 6: 2, 9: 1}),\n",
       " 8: Counter({5: 2}),\n",
       " 9: Counter({6: 1, 7: 1}),\n",
       " 10: Counter()}"
      ]
     },
     "execution_count": 146,
     "metadata": {},
     "output_type": "execute_result"
    }
   ],
   "source": [
    "customer_foaf = dict()\n",
    "for i in range(len(users)):\n",
    "    key = i\n",
    "    value = friends_of_friend_ids(users[i]) #foaf 인 경우가 많을 수록 추천해줬을 때 친할 확률이 더 크겠다.\n",
    "    customer_foaf[key] = value\n",
    "\n",
    "customer_foaf"
   ]
  },
  {
   "cell_type": "markdown",
   "metadata": {},
   "source": [
    "# Send suggestion of 'FriendsOfAFriend' that have the most counts : which supposedly are having the highest probabilty to be the user's friend >"
   ]
  },
  {
   "cell_type": "code",
   "execution_count": 147,
   "metadata": {},
   "outputs": [
    {
     "name": "stdout",
     "output_type": "stream",
     "text": [
      "suggested user_id [3] to user_id 0 \n",
      "suggested user_id [4] to user_id 1 \n",
      "suggested user_id [4] to user_id 2 \n",
      "suggested user_id [0] to user_id 3 \n",
      "suggested user_id [1, 2, 6, 7] to user_id 4 \n",
      "suggested user_id [8] to user_id 5 \n",
      "suggested user_id [7] to user_id 6 \n",
      "suggested user_id [6] to user_id 7 \n",
      "suggested user_id [5] to user_id 8 \n",
      "suggested user_id [6, 7] to user_id 9 \n",
      "None suggested to user_id 10\n"
     ]
    }
   ],
   "source": [
    "# recommend friends who has max foaf connection\n",
    "for i in range(len(customer_foaf)):\n",
    "    \n",
    "    # get counter list \n",
    "    tuple_list = customer_foaf[i].most_common()\n",
    "    \n",
    "    # query the tuples that have max_count and choose them out\n",
    "    max_count_ids = [x for x,y in tuple_list if y == (max([b for a,b in tuple_list]))]\n",
    "    \n",
    "    # suggest those Xs to a user\n",
    "    if len(max_count_ids)!=0:\n",
    "        print('suggested user_id {} to user_id {} '.format(max_count_ids, i))\n",
    "    else :\n",
    "        print('None suggested to user_id {}'.format(i))"
   ]
  },
  {
   "cell_type": "markdown",
   "metadata": {},
   "source": [
    "## Another way to choose out the keys with the biggest value : operator module"
   ]
  },
  {
   "cell_type": "code",
   "execution_count": 148,
   "metadata": {},
   "outputs": [
    {
     "data": {
      "text/plain": [
       "('c', 300)"
      ]
     },
     "execution_count": 148,
     "metadata": {},
     "output_type": "execute_result"
    }
   ],
   "source": [
    "# in dealing with Counter and getting the the key of maximum value\n",
    "# I could also use 'operator'\n",
    "\n",
    "import operator\n",
    "stats = {'a':3000, 'b':3000, 'c': 300, 'd': 400}\n",
    "max(stats.iteritems(), key=operator.itemgetter(0))\n",
    "min(stats.iteritems(), key=operator.itemgetter(1))"
   ]
  },
  {
   "cell_type": "markdown",
   "metadata": {},
   "source": [
    "# Friend Suggestion by shared interests"
   ]
  },
  {
   "cell_type": "code",
   "execution_count": 149,
   "metadata": {},
   "outputs": [],
   "source": [
    "interests = [\n",
    "    (0, \"Hadoop\"), (0, \"Big Data\"), (0, \"HBase\"), (0, \"Java\"),\n",
    "    (0, \"Spark\"), (0, \"Storm\"), (0, \"Cassandra\"),\n",
    "    (1, \"NoSQL\"), (1, \"MongoDB\"), (1, \"Cassandra\"), (1, \"HBase\"),\n",
    "    (1, \"Postgres\"), (2, \"Python\"), (2, \"scikit-learn\"), (2, \"scipy\"),\n",
    "    (2, \"numpy\"), (2, \"statsmodels\"), (2, \"pandas\"), (3, \"R\"), (3, \"Python\"),\n",
    "    (3, \"statistics\"), (3, \"regression\"), (3, \"probability\"),\n",
    "    (4, \"machine learning\"), (4, \"regression\"), (4, \"decision trees\"),\n",
    "    (4, \"libsvm\"), (5, \"Python\"), (5, \"R\"), (5, \"Java\"), (5, \"C++\"),\n",
    "    (5, \"Haskell\"), (5, \"programming languages\"), (6, \"statistics\"),\n",
    "    (6, \"probability\"), (6, \"mathematics\"), (6, \"theory\"),\n",
    "    (7, \"machine learning\"), (7, \"scikit-learn\"), (7, \"Mahout\"),\n",
    "    (7, \"neural networks\"), (8, \"neural networks\"), (8, \"deep learning\"),\n",
    "    (8, \"Big Data\"), (8, \"artificial intelligence\"), (9, \"Hadoop\"),\n",
    "    (9, \"Java\"), (9, \"MapReduce\"), (9, \"Big Data\")\n",
    "]"
   ]
  },
  {
   "cell_type": "code",
   "execution_count": 150,
   "metadata": {},
   "outputs": [],
   "source": [
    "# import module\n",
    "from collections import defaultdict\n"
   ]
  },
  {
   "cell_type": "code",
   "execution_count": null,
   "metadata": {},
   "outputs": [],
   "source": []
  }
 ],
 "metadata": {
  "kernelspec": {
   "display_name": "Python [conda env:python_2]",
   "language": "python",
   "name": "conda-env-python_2-py"
  },
  "language_info": {
   "codemirror_mode": {
    "name": "ipython",
    "version": 2
   },
   "file_extension": ".py",
   "mimetype": "text/x-python",
   "name": "python",
   "nbconvert_exporter": "python",
   "pygments_lexer": "ipython2",
   "version": "2.7.16"
  }
 },
 "nbformat": 4,
 "nbformat_minor": 2
}
